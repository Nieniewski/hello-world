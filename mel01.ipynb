{
  "nbformat": 4,
  "nbformat_minor": 0,
  "metadata": {
    "colab": {
      "name": "mel01.ipynb",
      "provenance": [],
      "authorship_tag": "ABX9TyNCl1/QKdlDp6aVWYVr3b/q",
      "include_colab_link": true
    },
    "kernelspec": {
      "name": "python3",
      "display_name": "Python 3"
    },
    "language_info": {
      "name": "python"
    },
    "accelerator": "GPU"
  },
  "cells": [
    {
      "cell_type": "markdown",
      "metadata": {
        "id": "view-in-github",
        "colab_type": "text"
      },
      "source": [
        "<a href=\"https://colab.research.google.com/github/Nieniewski/hello-world/blob/main/mel01.ipynb\" target=\"_parent\"><img src=\"https://colab.research.google.com/assets/colab-badge.svg\" alt=\"Open In Colab\"/></a>"
      ]
    },
    {
      "cell_type": "code",
      "metadata": {
        "colab": {
          "base_uri": "https://localhost:8080/",
          "height": 132
        },
        "id": "PtXeH0ApXzY_",
        "outputId": "ead7c291-f6f7-4782-e983-83fb0dbdbfdb"
      },
      "source": [
        "import matplotlib.pyplot as plt\n",
        "%matplotlib inline\n",
        "\n",
        "import numpy as np\n",
        "\n",
        "import torch\n",
        "import torch.nn as nn\n",
        "import torch.nn.functional as F\n",
        "from torch.utils.data import DataLoader, Dataset\n",
        "\n",
        "import torchvision\n",
        "import torchvision.transforms as transforms\n",
        "\n",
        "if torch.cuda.is_available():\n",
        "   print(\"Your Colab notebook is configured to run on the GPU!\")\n",
        "else:\n",
        "   print(\"If you see this message, your Colab notebook is currently running on the CPU. Click the Runtime dropdown menu, select Change runtime type, and  choose GPU in the list of Hardware accelerators\")\n",
        "\n",
        "device = torch.device('cuda:0' if torch.cuda.is_available() else 'cpu')\n",
        "\n",
        "##############\n",
        "\n",
        "# In[1]:\n",
        "from torchvision import models\n",
        "\n",
        "# In[2]:\n",
        "\n",
        "dir(models)\n",
        "\n",
        "# In[3]:\n",
        "alexnet = models.AlexNet()\n",
        "\n",
        "# In[4]:\n",
        "resnet = models.resnet101(pretrained=True)\n",
        "\n",
        "# In[5]:\n",
        "resnet\n",
        "\n",
        "# In[6]:\n",
        "from torchvision import transforms\n",
        "preprocess = transforms.Compose([\n",
        "        transforms.Resize(256),\n",
        "        transforms.CenterCrop(224),\n",
        "        transforms.ToTensor(),\n",
        "        transforms.Normalize(\n",
        "            mean=[0.485, 0.456, 0.406],\n",
        "            std=[0.229, 0.224, 0.225]\n",
        "        )])\n",
        "\n",
        "# In[7]:\n",
        "from PIL import Image\n",
        "img = Image.open(\"../data/p1ch2/bobby.jpg\")\n",
        " \n",
        ">>> img.show()"
      ],
      "execution_count": null,
      "outputs": [
        {
          "output_type": "error",
          "ename": "SyntaxError",
          "evalue": "ignored",
          "traceback": [
            "\u001b[0;36m  File \u001b[0;32m\"<ipython-input-11-9fd24a83e650>\"\u001b[0;36m, line \u001b[0;32m54\u001b[0m\n\u001b[0;31m    >>> img.show()\u001b[0m\n\u001b[0m     ^\u001b[0m\n\u001b[0;31mSyntaxError\u001b[0m\u001b[0;31m:\u001b[0m invalid syntax\n"
          ]
        }
      ]
    }
  ]
}